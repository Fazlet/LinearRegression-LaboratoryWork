{
 "cells": [
  {
   "cell_type": "markdown",
   "metadata": {},
   "source": [
    "# Лабораторная работа 2\n",
    "\n",
    "**Внимание!** За эту работу можно получить не более 10 баллов. Так что вы можете выбрать, какие из заданий вам более интересны, и делать их. Оценка будет равна минимуму из 10 и полученного вами числа баллов.\n",
    "\n",
    "## Линейная регрессия"
   ]
  },
  {
   "cell_type": "markdown",
   "metadata": {},
   "source": [
    "### Метод наименьших квадратов: постановка задачи\n",
    "\n",
    "Рассмотрим систему уравнений $Xa = y$, в которой $a$ --- столбец неизвестных. Её можно переписать в векторном виде\n",
    "$$x_1 a_1 + x_2 a_2 + \\ldots + x_k a_k = y,$$\n",
    "где $x_1,\\ldots,x_n$ --- столбцы матрицы $X$. Таким образом, решить исходную систему означает найти линейную комбинацию векторов $x_1,\\ldots,x_n$, равную правой части. Но что делать, если такой линейной комбинации не существует? Геометрически это означает, что вектор $y$ не лежит в подпространстве $U = \\langle x_1,\\ldots, x_k\\rangle$. В этом случае мы можем найти *псевдорешение*: вектор коэффициентов $\\hat{a}$, для которого линейная комбинация $x_1 \\hat{a}_1 + x_2 \\hat{a}_2 + \\ldots + x_k \\hat{a}_k$ хоть и не равна в точности $y$, но является наилучшим приближением --- то есть ближайшей к $y$ точкой $\\hat{y}$ подпространства $U$ (иными словами, ортогональной проекцией $y$ на это подпростанство). Итак, цель наших исканий можно сформулировать двумя эквивалентными способами:\n",
    "\n",
    "1. Найти вектор $\\hat{a}$, для которого длина разности $|X\\hat{a} - y|$ минимальна (отсюда название \"метод наименьших квадратов\");\n",
    "2. Найти ортогональную проекцию $\\hat{y}$ вектора $y$ на подпространство $U$ и представить её в виде $X\\hat{a}$.\n",
    "\n",
    "Далее мы будем предполагать, что векторы $x_1,\\ldots,x_n$ линейно независимы (если нет, то сначала имеет смысл выделить максимальную линейно независимую подсистему).\n",
    "\n",
    "На лекциях было показано, что проекция вектора $y$ на подпространство $U = \\langle x_1,\\ldots, x_k\\rangle$, записывается в виде\n",
    "$$\\hat{y} = X\\left(X^TX\\right)^{-1}X^Ty,$$\n",
    "и, соответственно, искомый вектор $\\hat{a}$ равен\n",
    "$$\\hat{a} = \\left(X^TX\\right)^{-1}X^Ty.$$"
   ]
  },
  {
   "cell_type": "markdown",
   "metadata": {},
   "source": [
    "### Задача линейной регрессии\n",
    "\n",
    "Начнём с примера. Допустим, вы хотите найти зависимость среднего балла S студента ФКН от его роста H, веса W, длины волос L и N - количества часов, которые он ежедневно посвящает учёбе. Представьте, что мы измерили все эти параметры для $n$ студентов и получили наборы значений: $S_1,\\ldots, S_n$, $H_1,\\ldots, H_n$ и так далее.\n",
    "\n",
    "Тут можно подбирать много разных умных моделей, но начать имеет смысл с самой простой, линейной:\n",
    "$$S = a_1H + a_2W + a_3L + a_4N + a_5.$$\n",
    "Конечно, строгой линейной зависимости нет (иначе можно было бы радостно упразднить экзамены), но мы можем попробовать подобрать коэффициенты $a_1, a_2, a_3, a_4, a_5$, для которых отклонение правой части от наблюдаемых было бы наименьшим:\n",
    "$$\\sum_{i=1}^n\\left(S_i - ( a_1H_i + a_2W_i + a_3L_i + a_4N_i + a_5)\\right)^2 \\longrightarrow \\min$$\n",
    "И сразу видно, что мы получили задачу на метод наименьших квадратов! А именно, у нас\n",
    "$$X =\n",
    "\\begin{pmatrix}\n",
    "H_1 & W_1 & L_1 & N_1 & 1\\\\\n",
    "H_2 & W_2 & L_2 & N_2 & 1\\\\\n",
    "\\dots & \\dots & \\dots & \\dots & \\dots \\\\\n",
    "H_n & W_n & L_n & N_n & 1\n",
    "\\end{pmatrix},\\qquad y=\n",
    "\\begin{pmatrix}\n",
    "S_1\\\\ S_2\\\\ \\vdots \\\\ S_n\n",
    "\\end{pmatrix}$$\n",
    "\n",
    "Решая эту задачу с помощью уже известных формул, получаем оценки коэффициентов $\\hat{a}_i$ ($i = 1\\ldots,5$)."
   ]
  },
  {
   "cell_type": "markdown",
   "metadata": {},
   "source": [
    "Теперь проговорим общую постановку задачи линейной регрессии. У нас есть $k$ переменных $x_1,\\ldots,x_k$ (\"регрессоров\"), через которые мы хотим выразить \"объясняемую переменную\" $y$:\n",
    "$$y = a_1x_1 + a_2x_2 + \\ldots + a_kx_k$$\n",
    "Значения всех переменных мы измерили $n$ раз (у $n$ различных объектов,  в $n$ различных моментов времени - это зависит от задачи). Подставим эти данные в предыдущее равенство:\n",
    "$$\\begin{pmatrix}\n",
    "y_1\\\\ y_2 \\\\ \\vdots \\\\ y_n\n",
    "\\end{pmatrix} = \n",
    "a_1\\begin{pmatrix}\n",
    "x_{11} \\\\ x_{21} \\\\ \\vdots \\\\ x_{n1} \\end{pmatrix} + a_2\\begin{pmatrix}\n",
    "x_{12} \\\\ x_{22} \\\\ \\vdots \\\\ x_{n2} \\end{pmatrix} + \\ldots + a_k\\begin{pmatrix}\n",
    "x_{1k} \\\\ x_{2k} \\\\ \\vdots \\\\ x_{nk} \\end{pmatrix}$$\n",
    "(здесь $x_{ij}$ - это значение $j$-го признака на $i$-м измерении). Это удобно переписать в матричном виде:\n",
    "$$\\begin{pmatrix}\n",
    "x_{11} & x_{12} & \\ldots & x_{1k}\\\\\n",
    "x_{21} & x_{22} & \\ldots & x_{2k}\\\\\n",
    "\\dots & \\dots & \\dots & \\dots\\\\\n",
    "x_{n1} & x_{n2} & \\ldots & x_{nk}\n",
    "\\end{pmatrix} \\cdot\n",
    "\\begin{pmatrix}\n",
    "a_1 \\\\ a_2 \\\\ \\vdots \\\\ a_k\n",
    "\\end{pmatrix} = \n",
    "\\begin{pmatrix}\n",
    "y_1 \\\\ y_2 \\\\ \\vdots \\\\ y_n\n",
    "\\end{pmatrix}$$\n",
    "или коротко $Xa = y$. Поскольку на практике эта система уравнений зачастую не имеет решения (ибо зависимости в жизни редко бывают действительно линейными), методом наименьших квадратов ищется псевдорешение."
   ]
  },
  {
   "cell_type": "markdown",
   "metadata": {},
   "source": [
    "### Оценка качества. Обобщающая способность. Обучение и тест \n",
    "\n",
    "После того, как вы построили регрессию и получили какую-то зависимость объясняемой переменной от регрессоров, настаёт время оценить качество регрессии. Есть много разных функционалов качества; мы пока будем говорить только о самом простом и очевидном из них: о среднеквадратичной ошибке (mean square error). Она равна\n",
    "$$\\frac1{n}|X\\hat{a} - y|^2 = \\frac1{n}\\sum_{i=1}^n\\left(\\hat{a}_1x_{i1} + \\hat{a}_2x_{i2} + \\ldots + \\hat{a}_kx_{ik} - y_i\\right)^2$$\n",
    "\n",
    "В целом, хочется искать модели с наименьшей mean square error на имеющихся данных. Однако слишком фанатичная гонка за минимизацией ошибки может привести к печальным последствиям. Например, если мы приближаем функцию одной переменной по значениям в $n$ точках, то наилучшей с точки зрения этой ошибки моделью будет многочлен $(n-1)$-й степени, для которого эта ошибка будет равна нулю.  Тем не менее, вряд ли истинная зависимость имеет вид многочлена большой степени. Более того, значения вам скорее всего даны с погрешностью, то есть вы подогнали вашу модель под свои зашумлённые данные, но на любых других данных (то есть в других точках) точность, скорее всего, окажется совсем не такой хорошей. Этот эффект называют **переобучением**; говорят также, что **обобщающая способность** модели оказалась скверной.\n",
    "\n",
    "Чтобы не попадать в эту ловушку, данные обычно делят на обучающие (по которым строят модель и оценивают коэффициенты) и тестовые. Лучшей стоит счесть ту модель, для которой значение функционала качества будет меньше."
   ]
  },
  {
   "cell_type": "markdown",
   "metadata": {},
   "source": [
    "### Задание 1. Метод наименьших квадратов (4 балла)"
   ]
  },
  {
   "cell_type": "markdown",
   "metadata": {},
   "source": [
    "## Скачайте файлы ``train.txt`` и ``test.txt``. В первом из них находится обучающая выборка, а во втором - тестовая. Каждый из файлов содержит два столбца чисел, разделённых пробелами: в первом - $n$ точек (значения аргумента $x$), во втором - значения некоторой функции $y = f(x)$ в этих точках, искажённые случайным шумом. Ваша задача - по обучающей выборке подобрать функцию $y = g(x)$, пристойно приближающую неизвестную вам зависимость."
   ]
  },
  {
   "cell_type": "markdown",
   "metadata": {},
   "source": [
    "Загрузим обучающие и тестовые данные (не забудьте ввести правильный путь!)."
   ]
  },
  {
   "cell_type": "code",
   "execution_count": 1,
   "metadata": {},
   "outputs": [],
   "source": [
    "import numpy\n",
    "\n",
    "data_train = numpy.loadtxt('C:/Users/Эдуард/Downloads/train.txt', delimiter=',')\n",
    "data_test = numpy.loadtxt('C:/Users/Эдуард/Downloads/test.txt', delimiter=',')"
   ]
  },
  {
   "cell_type": "markdown",
   "metadata": {},
   "source": [
    "Разделим значения $x$ и $y$"
   ]
  },
  {
   "cell_type": "code",
   "execution_count": 2,
   "metadata": {
    "collapsed": true
   },
   "outputs": [],
   "source": [
    "x_train = data_train[:,0]\n",
    "y_train = data_train[:,1]\n",
    "\n",
    "# Сделайте то же для тестовой выборки\n",
    "\n",
    "x_test = data_test[:,0]\n",
    "y_test = data_test[:,1]"
   ]
  },
  {
   "cell_type": "markdown",
   "metadata": {},
   "source": [
    "Найдите с помощью метода наименьших квадратов линейную функцию ($y = kx + b$), наилучшим образом приближающую неизвестную зависимость. Полезные функции: ``numpy.ones(n)`` для создания массива из единиц длины $n$ и ``numpy.concatenate((А, В), axis=1)`` для слияния двух матриц по столбцам (пара ``А`` и ``В`` превращается в матрицу ``[A B]``)."
   ]
  },
  {
   "cell_type": "code",
   "execution_count": 3,
   "metadata": {
    "collapsed": true
   },
   "outputs": [
    {
     "name": "stdout",
     "output_type": "stream",
     "text": [
      "X_train:\n",
      " [[-0.2   1.  ]\n",
      " [-0.14  1.  ]\n",
      " [-0.08  1.  ]\n",
      " [-0.02  1.  ]\n",
      " [ 0.04  1.  ]\n",
      " [ 0.1   1.  ]\n",
      " [ 0.16  1.  ]\n",
      " [ 0.22  1.  ]\n",
      " [ 0.28  1.  ]\n",
      " [ 0.34  1.  ]\n",
      " [ 0.4   1.  ]\n",
      " [ 0.46  1.  ]\n",
      " [ 0.52  1.  ]\n",
      " [ 0.58  1.  ]\n",
      " [ 0.64  1.  ]\n",
      " [ 0.7   1.  ]\n",
      " [ 0.76  1.  ]\n",
      " [ 0.82  1.  ]\n",
      " [ 0.88  1.  ]\n",
      " [ 0.94  1.  ]\n",
      " [ 1.    1.  ]] \n",
      "\n",
      "Значения k и b для train:  [2.2791345  4.43323091] \n",
      "\n",
      "y = 2.279134498051946 * x + 4.433230905064936 \n",
      "\n"
     ]
    }
   ],
   "source": [
    "import scipy.linalg\n",
    "\n",
    "E = numpy.ones(len(x_train))\n",
    "X_train = numpy.concatenate(((numpy.array([x_train])).T, (numpy.array([E])).T), axis=1)\n",
    "print(\"X_train:\\n\", X_train, \"\\n\")\n",
    "a_train = numpy.dot(numpy.dot(scipy.linalg.inv(numpy.dot(X_train.T, X_train)), X_train.T), y_train)\n",
    "print(\"Значения k и b для train: \", a_train, \"\\n\")\n",
    "print(\"y =\", a_train[0], \"* x +\", a_train[1], \"\\n\")"
   ]
  },
  {
   "cell_type": "markdown",
   "metadata": {},
   "source": [
    "Нарисуйте на плоскости точки $(x_i, y_i)$ и полученную линейную функцию. Глядя на данные, подумайте, многочленом какой степени можно было бы лучше всего приблизить эту функцию. Найдите этот многочлен и нарисуйте его график."
   ]
  },
  {
   "cell_type": "code",
   "execution_count": 4,
   "metadata": {
    "collapsed": true
   },
   "outputs": [
    {
     "name": "stderr",
     "output_type": "stream",
     "text": [
      "C:\\ProgramData\\Anaconda3\\lib\\site-packages\\ipykernel_launcher.py:10: MatplotlibDeprecationWarning: numpy.arange\n",
      "  # Remove the CWD from sys.path while we load stuff.\n"
     ]
    },
    {
     "name": "stdout",
     "output_type": "stream",
     "text": [
      "--------------------------------------------------------------------------------------------------\n",
      "-174008731477.5419x^20 + 1375047762234.7427x^19 - 4918295745210.198x^18 + 10508860032985.209x^17 - 14892636272608.838x^16 + 14666537039080.629x^15 - 10184967881701.55x^14 + 4910960353997.999x^13 - 1533506143428.3071x^12 + 232283872261.5151x^11 + 27187080055.00946x^10 - 21291293056.367493x^9 + 3997813988.3440247x^8 - 102845817.0236206x^7 - 75482246.18435669x^6 + 10663490.769348145x^5 - 167127.7108154297x^4 - 58657.2275390625x^3 + 3241.209716796875x^2 - 0.66156005859375x + 3.231689453125 \n",
      "\n",
      "--------------------------------------------------------------------------------------------------\n",
      "График полученного многочлена 20-ой степени проходит через все точки x_train. А значит, он максимально приближает функцию\n"
     ]
    },
    {
     "data": {
      "image/png": "[encoded data removed]",
      "text/plain": [
       "<Figure size 648x648 with 1 Axes>"
      ]
     },
     "metadata": {
      "needs_background": "light"
     },
     "output_type": "display_data"
    }
   ],
   "source": [
    "from matplotlib import mlab\n",
    "import matplotlib.pyplot as plt\n",
    "%matplotlib inline\n",
    "\n",
    "\n",
    "plt.figure(figsize=(9, 9))\n",
    "xmin = -0.2 # левая граница графика функции\n",
    "xmax = 1.0 # правая граница графика функции\n",
    "dx = 0.0001\n",
    "xlist = mlab.frange(xmin, xmax, dx)\n",
    "ylist = [(a_train[0] * x + a_train[1]) for x in xlist]\n",
    "plt.scatter(xlist, ylist, s=0.5, label=\"Линейная функция\") # нарисовали график функции\n",
    "\n",
    "print(\"--------------------------------------------------------------------------------------------------\")\n",
    "\n",
    "# Находим СЛУ, где в качетсве переменных будут искомые коэффициенты многочлена. Можно было сделать функцией concatenate,\n",
    "# но решил попробовать эту\n",
    "Z = numpy.vstack((x_train**20, x_train**19, \n",
    "                  x_train**18, x_train**17, x_train**16, \n",
    "                  x_train**15, x_train**14, x_train**13, \n",
    "                  x_train**12, x_train**11, x_train**10, \n",
    "                  x_train**9, x_train**8, x_train**7, \n",
    "                  x_train**6, x_train**5, x_train**4,\n",
    "                  x_train**3, x_train**2, x_train, numpy.ones(len(x_train)))).T\n",
    "\n",
    "b = scipy.linalg.lstsq(Z, y_train)[0]                  # Находим коэффициенты многочлена\n",
    "# Можно было это сделать предложенной формулой (которой я сделал выше), но кажется, \n",
    "# нам можно использовать библиотечные функции)        (проверил: ответы получаются одни и те же)\n",
    "\n",
    "# Напечатаем сам многочлен\n",
    "items = []\n",
    "for i, st in enumerate(b):\n",
    "    if not st:\n",
    "        continue\n",
    "    items.append('{}x^{}'.format(st if st != 1 else '', 20 - i))\n",
    "    mnogochlen = ' + '.join(items)\n",
    "    mnogochlen = mnogochlen.replace('x^0', '')\n",
    "    mnogochlen = mnogochlen.replace('^1 ', ' ')\n",
    "    mnogochlen = mnogochlen.replace('+ -', '- ')\n",
    "print(mnogochlen, '\\n')\n",
    "\n",
    "# И нарисуем его график\n",
    "ylist = []\n",
    "for x in xlist:\n",
    "    f = 0\n",
    "    for j in range(21):\n",
    "        f += (b[j]*(x**(len(b) - j - 1)))\n",
    "    ylist.append(f)\n",
    "plt.scatter(xlist, ylist, s=0.5, label=\"Многочлен\")\n",
    "plt.legend()\n",
    "\n",
    "plt.scatter(x_train, y_train, s=40, color='black') # нарисовали точки из train.txt\n",
    "\n",
    "print(\"--------------------------------------------------------------------------------------------------\")\n",
    "print(\"График полученного многочлена 20-ой степени проходит через все точки x_train. А значит, он максимально приближает функцию\")"
   ]
  },
  {
   "cell_type": "markdown",
   "metadata": {},
   "source": [
    "Для $k = 1,2,3,\\ldots,10$ найдите многочлен $\\hat{f}_k$ степени $k$, наилучшим образом приближающий неизвестную зависимость. Для каждого из них найдите среднеквадратическую ошибку на обучающих данных и на тестовых данных: $\\frac1{n}\\sum_{i=1}^n\\left( \\hat{f}_k(x_i) - y_i \\right)^2$ (в первом случае сумма ведётся по парам $(x_i, y_i)$ из обучающих данных, а во втором - по парам из тестовых данных).\n",
    "\n",
    "Для $k = 1,2,3,4,6$ напечатайте коэффициенты полученных многочленов и нарисуйте их графики на одном чертеже вместе с точками $(x_i, y_i)$ (возможно, график стоит сделать побольше; это делается командой `plt.figure(figsize=(width, height))`)."
   ]
  },
  {
   "cell_type": "code",
   "execution_count": 5,
   "metadata": {
    "collapsed": true
   },
   "outputs": [
    {
     "name": "stdout",
     "output_type": "stream",
     "text": [
      "--------------------------------------------------------------------------------------------------\n",
      "Многочлен f(x) степени k=1: \n",
      "2.2791344980519472x + 4.433230905064937 \n",
      "\n",
      "Среднеквадратичная ошибка на обучающих данных = 0.29689663326251964\n",
      "Среднеквадратичная ошибка на тестовых данных = 0.43512020040488886 \n",
      "\n",
      "Коэффициенты многочлена f(x) степени k=1: \n",
      "2.2791344980519472, 4.433230905064937\n",
      "\n",
      "\n",
      "--------------------------------------------------------------------------------------------------\n",
      "Многочлен f(x) степени k=2: \n",
      "1.4016285121152656x^2 + 1.1578316883597344x + 4.472476503404163 \n",
      "\n",
      "Среднеквадратичная ошибка на обучающих данных = 0.2696989158766913\n",
      "Среднеквадратичная ошибка на тестовых данных = 0.3564762887831223 \n",
      "\n",
      "Коэффициенты многочлена f(x) степени k=2: \n",
      "1.4016285121152656, 1.1578316883597344, 4.472476503404163\n",
      "\n",
      "\n",
      "--------------------------------------------------------------------------------------------------\n",
      "Многочлен f(x) степени k=3: \n",
      "-0.38176860428807563x^3 + 1.8597508372609601x^2 + 1.0650161052852152x + 4.460736355285097 \n",
      "\n",
      "Среднеквадратичная ошибка на обучающих данных = 0.26949718714796095\n",
      "Среднеквадратичная ошибка на тестовых данных = 0.3553464571518435 \n",
      "\n",
      "Коэффициенты многочлена f(x) степени k=3: \n",
      "-0.38176860428807563, 1.8597508372609601, 1.0650161052852152, 4.460736355285097\n",
      "\n",
      "\n",
      "--------------------------------------------------------------------------------------------------\n",
      "Многочлен f(x) степени k=4: \n",
      "7.918474697314859x^4 - 13.051328119991842x^3 + 6.794091784359173x^2 + 1.1718023926318573x + 4.341166120399685 \n",
      "\n",
      "Среднеквадратичная ошибка на обучающих данных = 0.26106653305792743\n",
      "Среднеквадратичная ошибка на тестовых данных = 0.4417270189283702 \n",
      "\n",
      "Коэффициенты многочлена f(x) степени k=4: \n",
      "7.918474697314859, -13.051328119991842, 6.794091784359173, 1.1718023926318573, 4.341166120399685\n",
      "\n",
      "\n",
      "--------------------------------------------------------------------------------------------------\n",
      "Многочлен f(x) степени k=5: \n",
      "29.52497804153989x^5 - 51.13148138576479x^4 + 21.374796276443497x^3 + 3.27471440180771x^2 - 0.13059803988344143x + 4.431297813823644 \n",
      "\n",
      "Среднеквадратичная ошибка на обучающих данных = 0.24998504648317507\n",
      "Среднеквадратичная ошибка на тестовых данных = 0.5579732021691466 \n",
      "\n",
      "Коэффициенты многочлена f(x) степени k=5: \n",
      "29.52497804153989, -51.13148138576479, 21.374796276443497, 3.27471440180771, -0.13059803988344143, 4.431297813823644\n",
      "\n",
      "\n"
     ]
    },
    {
     "name": "stderr",
     "output_type": "stream",
     "text": [
      "C:\\ProgramData\\Anaconda3\\lib\\site-packages\\ipykernel_launcher.py:75: MatplotlibDeprecationWarning: numpy.arange\n"
     ]
    },
    {
     "name": "stdout",
     "output_type": "stream",
     "text": [
      "--------------------------------------------------------------------------------------------------\n",
      "Многочлен f(x) степени k=6: \n",
      "-229.97013344955556x^6 + 581.4532983204796x^5 - 481.5101329487343x^4 + 121.25709714632106x^3 + 16.002903991785416x^2 - 4.59717932585059x + 4.383795011028695 \n",
      "\n",
      "Среднеквадратичная ошибка на обучающих данных = 0.18829348988370712\n",
      "Среднеквадратичная ошибка на тестовых данных = 2.581692933697579 \n",
      "\n",
      "Коэффициенты многочлена f(x) степени k=6: \n",
      "-229.97013344955556, 581.4532983204796, -481.5101329487343, 121.25709714632106, 16.002903991785416, -4.59717932585059, 4.383795011028695\n",
      "\n",
      "\n",
      "--------------------------------------------------------------------------------------------------\n",
      "Многочлен f(x) степени k=7: \n",
      "-167.38196463589716x^7 + 238.69936753097838x^6 + 122.8782173610268x^5 - 314.23117259871356x^4 + 119.35078427880654x^3 + 7.215458609612867x^2 - 4.00889591280044x + 4.444512709384654 \n",
      "\n",
      "Среднеквадратичная ошибка на обучающих данных = 0.1853962115329458\n",
      "Среднеквадратичная ошибка на тестовых данных = 2.51578290326074 \n",
      "\n",
      "--------------------------------------------------------------------------------------------------\n",
      "Многочлен f(x) степени k=8: \n",
      "1729.4775646702399x^8 - 5701.710171580566x^7 + 6760.628443005086x^6 - 3132.8563802209774x^5 + 109.89566685442401x^4 + 268.8604394160677x^3 - 26.695630952554666x^2 - 5.182773521715262x + 4.6637891085988485 \n",
      "\n",
      "Среднеквадратичная ошибка на обучающих данных = 0.15905556579090324\n",
      "Среднеквадратичная ошибка на тестовых данных = 4.3572885207470495 \n",
      "\n",
      "--------------------------------------------------------------------------------------------------\n",
      "Многочлен f(x) степени k=9: \n",
      "903.2155162931276x^9 - 1522.098293985733x^8 - 1216.448178315575x^7 + 3913.2680930500433x^6 - 2441.9626893863724x^5 + 176.24541113329104x^4 + 219.0420375188359x^3 - 24.2627167573836x^2 - 4.552705823147903x + 4.645883601757646 \n",
      "\n",
      "Среднеквадратичная ошибка на обучающих данных = 0.1584718427469784\n",
      "Среднеквадратичная ошибка на тестовых данных = 4.77634227850376 \n",
      "\n",
      "--------------------------------------------------------------------------------------------------\n",
      "Многочлен f(x) степени k=10: \n",
      "-9818.579518430584x^10 + 40177.5335900468x^9 - 63620.99637675103x^8 + 46686.64428323736x^7 - 12969.92711872714x^6 - 1660.8264262842022x^5 + 1201.9528244073517x^4 + 44.93560565262669x^3 - 36.17538892387529x^2 - 2.159833307588997x + 4.669172515365062 \n",
      "\n",
      "Среднеквадратичная ошибка на обучающих данных = 0.153166109941532\n",
      "Среднеквадратичная ошибка на тестовых данных = 14.632427976442015 \n",
      "\n"
     ]
    },
    {
     "data": {
      "text/plain": [
       "<matplotlib.collections.PathCollection at 0x1d7ebb5be80>"
      ]
     },
     "execution_count": 5,
     "metadata": {},
     "output_type": "execute_result"
    },
    {
     "data": {
      "image/png": "[encoded data removed]",
      "text/plain": [
       "<Figure size 648x648 with 1 Axes>"
      ]
     },
     "metadata": {
      "needs_background": "light"
     },
     "output_type": "display_data"
    }
   ],
   "source": [
    "for k in range(1, 11):\n",
    "    \n",
    "    if k == 1:\n",
    "        m = numpy.vstack((x_train, numpy.ones(len(x_train)))).T\n",
    "    elif k == 2:\n",
    "        m = numpy.vstack((x_train**2, x_train, numpy.ones(len(x_train)))).T\n",
    "    elif k == 3:\n",
    "        m = numpy.vstack((x_train**3, x_train**2, x_train, numpy.ones(len(x_train)))).T\n",
    "    elif k == 4:\n",
    "        m = numpy.vstack((x_train**4, x_train**3, x_train**2, x_train, numpy.ones(len(x_train)))).T\n",
    "    elif k == 5:\n",
    "        m = numpy.vstack((x_train**5, x_train**4, x_train**3, x_train**2,\n",
    "                          x_train, numpy.ones(len(x_train)))).T\n",
    "    elif k == 6:\n",
    "        m = numpy.vstack((x_train**6, x_train**5, x_train**4, x_train**3,\n",
    "                          x_train**2, x_train, numpy.ones(len(x_train)))).T\n",
    "    elif k == 7:\n",
    "        m = numpy.vstack((x_train**7, x_train**6, x_train**5, x_train**4,\n",
    "                          x_train**3, x_train**2, x_train, numpy.ones(len(x_train)))).T\n",
    "    elif k == 8:\n",
    "        m = numpy.vstack((x_train**8, x_train**7, x_train**6, x_train**5,\n",
    "                          x_train**4, x_train**3, x_train**2, x_train, numpy.ones(len(x_train)))).T\n",
    "    elif k == 9:\n",
    "        m = numpy.vstack((x_train**9, x_train**8, x_train**7, x_train**6,\n",
    "                          x_train**5, x_train**4, x_train**3, x_train**2,\n",
    "                          x_train, numpy.ones(len(x_train)))).T\n",
    "    elif k == 10:\n",
    "        m = numpy.vstack((x_train**10, x_train**9, x_train**8, x_train**7,\n",
    "                          x_train**6, x_train**5, x_train**4, x_train**3,\n",
    "                          x_train**2, x_train, numpy.ones(len(x_train)))).T\n",
    "    \n",
    "    # Находим коэффициенты многочлена\n",
    "    s = scipy.linalg.lstsq(m, y_train)[0] # Можно было это сделать формулой, но кажется, нам можно пользоваться библиотечными функциями\n",
    "    \n",
    "    # И выводим сам многочлен\n",
    "    items = []\n",
    "    for i, a in enumerate(s):\n",
    "        if not a:\n",
    "            continue\n",
    "        items.append('{}x^{}'.format(a if a != 1 else '', len(s) - i - 1))\n",
    "        result = ' + '.join(items)\n",
    "        result = result.replace('x^0', '')\n",
    "        result = result.replace('^1 ', ' ')\n",
    "        result = result.replace('+ -', '- ')\n",
    "    print(\"--------------------------------------------------------------------------------------------------\")\n",
    "    print(\"Многочлен f(x) степени k=\", k, \": \", sep='')\n",
    "    print(result, '\\n')\n",
    "    \n",
    "    # Считаем среднеквадратичную ошибку\n",
    "    summ_train = 0\n",
    "    summ_test = 0\n",
    "    for i in range(0, len(x_train)):\n",
    "        f_train = 0\n",
    "        f_test = 0\n",
    "        for j in range (k + 1):\n",
    "            f_train += (s[j]*(x_train[i]**(len(s) - j - 1)))                    # Здесь я высчитываю значения многочлена\n",
    "            f_test += (s[j]*(x_test[i]**(len(s) - j - 1)))\n",
    "        summ_train += ((f_train - y_train[i])**2)                               # И прибавляю к сумме квадрат разности\n",
    "        summ_test += ((f_test - y_test[i])**2)\n",
    "    err_train = (1/len(x_train))*summ_train                                               # Осталось домножить на (1/n)\n",
    "    err_test = (1/len(x_train))*summ_test\n",
    "    print(\"Среднеквадратичная ошибка на обучающих данных =\", err_train)\n",
    "    print(\"Среднеквадратичная ошибка на тестовых данных =\", err_test, \"\\n\")\n",
    "    \n",
    "    # Выводим коэффициенты многочлена\n",
    "    if k == 1 or k == 2 or k == 3 or k == 4 or k == 5 or k == 6:\n",
    "        print(\"Коэффициенты многочлена f(x) степени k=\", k, \": \", sep='')\n",
    "        print(*s, sep=', ')                           # S - коэффициенты многочлена\n",
    "        print('\\n')\n",
    "        if k == 1:\n",
    "            plt.figure(figsize=(9, 9))\n",
    "            xmin = -0.21                              # левая граница графика функции\n",
    "            xmax = 1.02                               # правая граница графика функции\n",
    "            dx = 0.001\n",
    "            xlist = mlab.frange(xmin, xmax, dx)\n",
    "        ylist = []\n",
    "        for x in xlist:\n",
    "            f = 0\n",
    "            for j in range(k + 1):\n",
    "                f += (s[j]*(x**(len(s) - j - 1)))\n",
    "            ylist.append(f)\n",
    "        stepen = \"Степень \"\n",
    "        stepen += str(k)\n",
    "        plt.scatter(xlist, ylist, label=stepen) # нарисовали график функции\n",
    "plt.legend()\n",
    "plt.scatter(x_train, y_train, s=100, color='gold')             # нарисовали точки из train.txt\n"
   ]
  },
  {
   "cell_type": "markdown",
   "metadata": {},
   "source": [
    "Что происходит с ошибкой при росте степени многочлена? Казалось бы, чем больше степень, тем более сложным будет многочлен и тем лучше он будет приближать нашу функцию. Подтверждают ли это ваши наблюдения? Как вам кажется, чем объясняется поведение ошибки на тестовых данных при $k = 10$?"
   ]
  },
  {
   "cell_type": "code",
   "execution_count": 6,
   "metadata": {
    "collapsed": true
   },
   "outputs": [
    {
     "ename": "SyntaxError",
     "evalue": "invalid syntax (<ipython-input-6-dc3e0a569178>, line 1)",
     "output_type": "error",
     "traceback": [
      "\u001b[1;36m  File \u001b[1;32m\"<ipython-input-6-dc3e0a569178>\"\u001b[1;36m, line \u001b[1;32m1\u001b[0m\n\u001b[1;33m    Ошибка на обучающих данных, конечно, уменьшается с повышением степени многочлена. А значит, многочлен\u001b[0m\n\u001b[1;37m            ^\u001b[0m\n\u001b[1;31mSyntaxError\u001b[0m\u001b[1;31m:\u001b[0m invalid syntax\n"
     ]
    }
   ],
   "source": [
    "Ошибка на обучающих данных, конечно, уменьшается с повышением степени многочлена. А значит, многочлен\n",
    "лучше приближает нашу функцию, но только для обучающих данных.\n",
    "\n",
    "При этом чем выше точность для обучающих данных, тем может быть меньше точность для тестовых данных, потому что\n",
    "с повышением степени функция, приближаясь к обучающим данным, может отдаляться от тестовых данных (ведь они не одинаковы).\n",
    "\n",
    "Именно поэтому мы и получили большую среднеквадратичную ошибку на тестовых данных при k = 10. Мы получили эффект переобучения."
   ]
  },
  {
   "cell_type": "markdown",
   "metadata": {},
   "source": [
    "### Задание 2. Линейная регрессия (4 балла)"
   ]
  },
  {
   "cell_type": "markdown",
   "metadata": {},
   "source": [
    "Скачайте файлы ``flats_moscow_mod.txt`` и ``flats_moscow_description.txt``. В первом из них содержатся данные о квартирах в Москве. Каждая строка содержит шесть характеристик некоторой квартиры, разделённые знаками табуляции; в первой строке записаны кодовые названия характеристик. Во втором файле приведены краткие описания признаков. Вашей задачей будет построить с помощью метода наименьших квадратов (линейную) зависимость между ценой квартиры и остальными доступными параметрами.\n",
    "\n",
    "С помощью известных вам формул найдите регрессионные коэффициенты. Какой смысл имеют их знаки? Согласуются ли они с вашими представлениями о жизни?\n",
    "\n",
    "Оцените качество приближения, вычислив среднеквадратическую ошибку."
   ]
  },
  {
   "cell_type": "code",
   "execution_count": 7,
   "metadata": {
    "collapsed": true
   },
   "outputs": [
    {
     "name": "stdout",
     "output_type": "stream",
     "text": [
      "Цена квартиры = 1.48705288612584 * Общая площадь квартиры + 1.6562890012269063 * Жилая площадь квартиры + 1.8192049792747012 * Площадь кухни + -3.3271540562741238 * Расстояние от центра + -1.3156886037016393 * Расстояние до метро + -26.789269634183313 \n",
      "\n",
      "--------------------------------------------------------------------------------------------------\n",
      "ЗНАК КОЭФФИЦИЕНТА ЗАВИСИТ ОТ ТОГО, РАСТЁТ ЛИ \"ПОЛЕЗНОСТЬ\" C РОСТОМ ЗНАЧЕНИЯ. ТАК, НАПРИМЕР, ЧЕМ ВЫШЕ РАССТОЯНИЕ ОТ ЦЕНТРА, ТЕМ ХУЖЕ ПОКУПАТЕЛЮ (ЧТО ВПОЛНЕ ЛОГИЧНО)\n",
      "\n",
      "--------------------------------------------------------------------------------------------------\n",
      "Регрессионные коэффициенты: \n",
      "1.48705288612584, 1.6562890012269063, 1.8192049792747012, -3.3271540562741238, -1.3156886037016393, -26.789269634183313\n",
      "\n",
      "\n",
      "--------------------------------------------------------------------------------------------------\n",
      "Среднеквадратичная ошибка = 924.0090032083967\n"
     ]
    }
   ],
   "source": [
    "data = numpy.loadtxt('C:/Users/Эдуард/Downloads/flats_moscow_mod.txt', skiprows=1, delimiter='\\t') # Считали данные из файла\n",
    "\n",
    "price = data[:,0]\n",
    "totsp = data[:,1]\n",
    "livesp = data[:,2]                                        # Считали значения\n",
    "kitsp = data[:,3]\n",
    "dist = data[:,4]\n",
    "metrdist = data[:,5]\n",
    "\n",
    "E = numpy.ones(len(price))\n",
    "X = numpy.concatenate(((numpy.array([totsp])).T, (numpy.array([livesp])).T, (numpy.array([kitsp])).T,\n",
    "                       (numpy.array([dist])).T, (numpy.array([metrdist])).T, (numpy.array([E])).T), axis=1)\n",
    "a = numpy.dot(numpy.dot(scipy.linalg.inv(numpy.dot(X.T, X)), X.T), price) # Нашли коэфициенты по известной нам формуле\n",
    "print(\"Цена квартиры =\", a[0], \"* Общая площадь квартиры +\", a[1], \"* Жилая площадь квартиры +\", a[2], \"* Площадь кухни +\",\n",
    "      a[3], \"* Расстояние от центра +\", a[4], \"* Расстояние до метро +\", a[5], \"\\n\")\n",
    "\n",
    "print(\"--------------------------------------------------------------------------------------------------\")\n",
    "print('ЗНАК КОЭФФИЦИЕНТА ЗАВИСИТ ОТ ТОГО, РАСТЁТ ЛИ \"ПОЛЕЗНОСТЬ\" C РОСТОМ ЗНАЧЕНИЯ. ТАК, НАПРИМЕР, ЧЕМ ВЫШЕ РАССТОЯНИЕ ОТ',\n",
    "     'ЦЕНТРА, ТЕМ ХУЖЕ ПОКУПАТЕЛЮ (ЧТО ВПОЛНЕ ЛОГИЧНО)\\n')\n",
    "print(\"--------------------------------------------------------------------------------------------------\")\n",
    "\n",
    "print(\"Регрессионные коэффициенты: \")\n",
    "print(*a, sep=\", \")\n",
    "print('\\n')\n",
    "\n",
    "print(\"--------------------------------------------------------------------------------------------------\")\n",
    "# Считаем среднеквадратичную ошибку\n",
    "summ = 0\n",
    "for i in range(0, len(price)):\n",
    "    f = a[0]*totsp[i] + a[1]*livesp[i] + a[2]*kitsp[i] + a[3]*dist[i] + a[4]*metrdist[i] + a[5]\n",
    "    summ += ((f - price[i])**2)\n",
    "err = (1/len(price))*summ\n",
    "print(\"Среднеквадратичная ошибка =\", err)\n"
   ]
  },
  {
   "cell_type": "markdown",
   "metadata": {},
   "source": [
    "### Усложнение модели"
   ]
  },
  {
   "cell_type": "markdown",
   "metadata": {},
   "source": [
    "Конечно, никто не гарантирует, что объясняемая переменная (цена квартиры) зависит от остальных характеристик именно линейно. Зависимость может быть, например, квадратичной или логарифмической; больше того, могут быть важны не только отдельные признаки, но и их комбинации. Это можно учитывать, добавляя в качестве дополнительных признаков разные функции от уже имеющихся характеристик: их квадраты, логарифмы, попарные произведения.\n",
    "\n",
    "В этом задании вам нужно постараться улучшить качество модели, добавляя дополнительные признаки, являющиеся функциями от уже имеющихся. Но будьте осторожны: чрезмерное усложнение модели будет приводить к переобучению. \n",
    "\n",
    "**Сравнение моделей**\n",
    "\n",
    "Когда вы построите новую модель, вам захочется понять, лучше она или хуже, чем изначальная. Проверять это на той же выборке, на которой вы обучались, бессмысленно и даже вредно (вспомните пример с многочленами: как прекрасно падала ошибка на обучающей выборке с ростом степени!). Поэтому вам нужно будет разделить выборку на обучающую и тестовую. Делать это лучше случайным образом (ведь вы не знаете, как создатели датасета упорядочили объекты); рекомендуем вам для этого функцию `sklearn.model_selection.train_test_split`."
   ]
  },
  {
   "cell_type": "code",
   "execution_count": 21,
   "metadata": {
    "collapsed": true
   },
   "outputs": [
    {
     "name": "stdout",
     "output_type": "stream",
     "text": [
      "Среднеквадратичная ошибка ДО разбиения данных и усложнения модели = 924.0090032083967\n",
      "--------------------------------------------------------------------------------------------------\n",
      "Среднеквадратичная ошибка на обучающих данных = 775.4186272189329 \n",
      "\n",
      "Среднеквадратичная ошибка на тестовых данных = 781.2627965619628 \n",
      "\n"
     ]
    }
   ],
   "source": [
    "from sklearn.model_selection import train_test_split\n",
    "import math\n",
    "\n",
    "def square(a):                                         # Возведём в квадрат каждое значение\n",
    "    return a**2\n",
    "\n",
    "print(\"Среднеквадратичная ошибка ДО разбиения данных и усложнения модели =\", err)\n",
    "\n",
    "livespsq = []\n",
    "for i in range(0, len(price)):\n",
    "    livespsq.append(square(livesp[i]))\n",
    "    \n",
    "totspsq = []\n",
    "for i in range(0, len(price)):\n",
    "    totspsq.append(square(totsp[i]))\n",
    "    \n",
    "distsq = []\n",
    "for i in range(0, len(price)):\n",
    "    distsq.append(square(dist[i]))\n",
    "    \n",
    "kitspsq = []\n",
    "for i in range(0, len(price)):\n",
    "    kitspsq.append(square(kitsp[i]))\n",
    "    \n",
    "metrdistsq = []\n",
    "for i in range(0, len(price)):\n",
    "    metrdistsq.append(square(metrdist[i]))\n",
    "\n",
    "E = numpy.ones(len(price))    \n",
    "\n",
    "# Дополним квадратами значений данных\n",
    "X = numpy.concatenate(((numpy.array([totsp])).T, (numpy.array([livesp])).T, (numpy.array([kitsp])).T, \n",
    "                       (numpy.array([dist])).T, (numpy.array([metrdist])).T, (numpy.array([livespsq])).T, \n",
    "                       (numpy.array([totspsq])).T, (numpy.array([distsq])).T, (numpy.array([kitspsq])).T, \n",
    "                       (numpy.array([metrdistsq])).T, (numpy.array([E])).T), axis=1)\n",
    "\n",
    "X_for_train, X_for_test, price_train, price_test = train_test_split(X, price, test_size=0.25)        # Разделили данные\n",
    "\n",
    "a_train = numpy.dot(numpy.dot(scipy.linalg.inv(numpy.dot(X_for_train.T, X_for_train)), X_for_train.T), price_train)\n",
    "a_test = numpy.dot(numpy.dot(scipy.linalg.inv(numpy.dot(X_for_test.T, X_for_test)), X_for_test.T), price_test)\n",
    "\n",
    "print(\"--------------------------------------------------------------------------------------------------\")\n",
    "# Считаем среднеквадратичную ошибку для обучающих и для тестовых данных\n",
    "summ_train = 0\n",
    "summ_test = 0\n",
    "\n",
    "for i in range(0, len(price_train)):\n",
    "    f = (a_train[0]*X_for_train[i,0] + a_train[1]*X_for_train[i,1] + a_train[2]*X_for_train[i,2] +\n",
    "         a_train[3]*X_for_train[i,3] + a_train[4]*X_for_train[i,4] + a_train[5]*X_for_train[i,5] +\n",
    "         a_train[6]*X_for_train[i,6] + a_train[7]*X_for_train[i,7] + a_train[8]*X_for_train[i,8] + \n",
    "         a_train[9]*X_for_train[i,9] + a_train[10]*X_for_train[i,10])\n",
    "    summ_train += ((f - price_train[i])**2)\n",
    "err_train = (1/len(price_train))*summ_train\n",
    "\n",
    "for i in range(0, len(price_test)):\n",
    "    f = (a_test[0]*X_for_test[i,0] + a_test[1]*X_for_test[i,1] + a_test[2]*X_for_test[i,2] +\n",
    "         a_test[3]*X_for_test[i,3] + a_test[4]*X_for_test[i,4] + a_test[5]*X_for_test[i,5] +\n",
    "         a_test[6]*X_for_test[i,6] + a_test[7]*X_for_test[i,7] + a_test[8]*X_for_test[i,8] + \n",
    "         a_test[9]*X_for_test[i,9] + a_test[10]*X_for_test[i,10])\n",
    "    summ_test += ((f - price_test[i])**2)\n",
    "err_test = (1/len(price_test))*summ_test\n",
    "\n",
    "print(\"Среднеквадратичная ошибка на обучающих данных =\", err_train, '\\n')\n",
    "print(\"Среднеквадратичная ошибка на тестовых данных =\", err_test, '\\n')\n"
   ]
  },
  {
   "cell_type": "markdown",
   "metadata": {},
   "source": [
    "### Задание 3. Регуляризация (2 балла)"
   ]
  },
  {
   "cell_type": "markdown",
   "metadata": {},
   "source": [
    "Вспомним, что задача линейной регрессии формулируется как задача нахождения проекции вектора значений объясняемой переменной $y$ на линейную оболочку $\\langle x_1,\\ldots,x_k\\rangle$ векторов значений регрессоров. Если векторы $x_1,\\ldots,x_k$ линейно зависимы, то матрица $X^TX$ вырожденна и задача не будет решаться (то есть будет, но не с помощью приведённой выше формулы). В жизни, по счастью, различные признаки редко бывают *в точности* линейно зависимы, однако во многих ситуациях они скоррелированы и становятся \"почти\" линейно зависимыми. Таковы, к примеру, зарплата человека, его уровень образования, цена машины и суммарная площадь недвижимости, которой он владеет. В этом случае матрица $X^TX$ будет близка к вырожденной, и это приводит к численной неустойчивости и плохому качеству решений; как следствие, будет иметь место переобучение. Один из симптомов этой проблемы - необычно большие по модулю компоненты вектора $a$.\n",
    "\n",
    "Есть много способов борьбы с этим злом. Один из них - регуляризация. Сейчас мы рассмотрим одну из её разновидностей --- **L2-регуляризацию**. Идея в том, чтобы подправить матрицу $X^TX$, сделав её \"получше\". Например, это можно сделать, заменив её на $(X^TX + \\lambda E)$, где $\\lambda$ --- некоторый скаляр. Пожертвовав точностью на обучающей выборке, мы тем не менее получаем численно более стабильное псевдорешение $a = (X^TX + \\lambda E)^{-1}X^Ty$ и снижаем эффект переобучения. Параметр $\\lambda$ нужно подбирать, и каких-то универсальных способов это делать нет, но зачастую можно его подобрать таким, чтобы ошибка на тестовой выборке падала. "
   ]
  },
  {
   "cell_type": "markdown",
   "metadata": {},
   "source": [
    "Теперь давайте вспомним первую задачу. Если вы её сделали, то помните, что ошибка аппроксимации многочленом шестой степени довольно высокая. Убедитесь, что, используя регуляризацию с хорошо подобранным коэффициентом $\\lambda$, ошибку на тестовой выборке можно сделать не больше, чем для многочлена оптимальной степени в модели без регрессии. Для этого $\\lambda$ сравните $\\det(X^TX)$ и $\\det(X^TX + \\lambda E)$."
   ]
  },
  {
   "cell_type": "code",
   "execution_count": 22,
   "metadata": {
    "collapsed": true
   },
   "outputs": [
    {
     "name": "stdout",
     "output_type": "stream",
     "text": [
      "Среднеквадратичная ошибка на обучающих данных = 0.18829348988370218\n",
      "Среднеквадратичная ошибка на тестовых данных = 2.5816929332840908 \n",
      "\n",
      "ПОСЛЕ РЕГУЛЯРИЗАЦИИ\n",
      "Среднеквадратичная ошибка на обучающих данных = 0.3196110739903539\n",
      "Среднеквадратичная ошибка на тестовых данных = 0.3082199235712287 \n",
      "\n",
      "Ошибка на тестовых данных уменьшилась. Коэффициент лямбда при этом подобрали:  1.0 \n",
      "\n",
      "det(X^T * X) = 9.082864838357222e-12\n",
      "det(X^T * X + lambda*E) = 509.216450794218\n",
      "!!!                     det(X^T * X)   <   det(X^T * X + lambda*E)\n",
      "Вывод: матрица после регуляризации менее близка к вырожденной, а значит мы получили более численно стабильное псевдорешение.\n",
      "--------------------------------------------------------------------------------------------------\n"
     ]
    }
   ],
   "source": [
    "data_train = numpy.loadtxt('C:/Users/Эдуард/Downloads/train.txt', delimiter=',')\n",
    "data_test = numpy.loadtxt('C:/Users/Эдуард/Downloads/test.txt', delimiter=',')\n",
    "x_train = data_train[:,0]\n",
    "y_train = data_train[:,1]\n",
    "x_test = data_test[:,0]\n",
    "y_test = data_test[:,1]\n",
    "X_train = numpy.concatenate(((numpy.array([x_train**6])).T, (numpy.array([x_train**5])).T, (numpy.array([x_train**4])).T,\n",
    "                             (numpy.array([x_train**3])).T, (numpy.array([x_train**2])).T,\n",
    "                             (numpy.array([x_train])).T, (numpy.array([numpy.ones(len(x_train))])).T), axis=1)\n",
    "a = numpy.dot(numpy.dot(scipy.linalg.inv(numpy.dot(X_train.T, X_train)), X_train.T), y_train)\n",
    "a_L2 = numpy.dot(numpy.dot(scipy.linalg.inv((numpy.dot(X_train.T, X_train)) + 1.*numpy.eye(len(X_train[0]))), X_train.T), y_train)\n",
    "\n",
    "# Считаем среднеквадратичную ошибку\n",
    "summ_train = 0\n",
    "summ_test = 0\n",
    "for i in range(0, len(x_train)):\n",
    "    f_train = 0\n",
    "    f_test = 0\n",
    "    for j in range (7):\n",
    "        f_train += (a[j]*(x_train[i]**(6 - j)))\n",
    "        f_test += (a[j]*(x_test[i]**(6 - j)))\n",
    "    summ_train += ((f_train - y_train[i])**2)\n",
    "    summ_test += ((f_test - y_test[i])**2)\n",
    "err_train = (1/len(x_train))*summ_train\n",
    "err_test = (1/len(x_train))*summ_test\n",
    "print(\"Среднеквадратичная ошибка на обучающих данных =\", err_train)\n",
    "print(\"Среднеквадратичная ошибка на тестовых данных =\", err_test, \"\\n\")\n",
    "\n",
    "print(\"ПОСЛЕ РЕГУЛЯРИЗАЦИИ\")\n",
    "# Считаем среднеквадратичную ошибку после регуляризации\n",
    "summ_train = 0\n",
    "summ_test = 0\n",
    "for i in range(0, len(x_train)):\n",
    "    f_train = 0\n",
    "    f_test = 0\n",
    "    for j in range (7):\n",
    "        f_train += (a_L2[j]*(x_train[i]**(6 - j)))\n",
    "        f_test += (a_L2[j]*(x_test[i]**(6 - j)))\n",
    "    summ_train += ((f_train - y_train[i])**2)\n",
    "    summ_test += ((f_test - y_test[i])**2)\n",
    "err_train = (1/len(x_train))*summ_train\n",
    "err_test = (1/len(x_train))*summ_test\n",
    "print(\"Среднеквадратичная ошибка на обучающих данных =\", err_train)\n",
    "print(\"Среднеквадратичная ошибка на тестовых данных =\", err_test, \"\\n\")\n",
    "\n",
    "print(\"Ошибка на тестовых данных уменьшилась. Коэффициент лямбда при этом подобрали: \", 1., \"\\n\")\n",
    "\n",
    "print(\"det(X^T * X) =\", scipy.linalg.det(numpy.dot(X_train.T, X_train)))\n",
    "print(\"det(X^T * X + lambda*E) =\", scipy.linalg.det(numpy.dot(X_train.T, X_train) + 1.*numpy.eye(len(X_train[0]))))\n",
    "print(\"!!!                     det(X^T * X)   <   det(X^T * X + lambda*E)\")\n",
    "print(\"Вывод: матрица после регуляризации менее близка к вырожденной, а значит мы получили более численно стабильное псевдорешение.\")\n",
    "print(\"--------------------------------------------------------------------------------------------------\")"
   ]
  },
  {
   "cell_type": "markdown",
   "metadata": {},
   "source": [
    "### Нарисуйте на одном чертеже графики многочленов шестой степени, приближающих неизвестную функцию, для модели с регуляризацией и без. Чем первый из них выгодно отличается от второго?"
   ]
  },
  {
   "cell_type": "code",
   "execution_count": 23,
   "metadata": {
    "collapsed": true
   },
   "outputs": [
    {
     "name": "stderr",
     "output_type": "stream",
     "text": [
      "C:\\ProgramData\\Anaconda3\\lib\\site-packages\\ipykernel_launcher.py:5: MatplotlibDeprecationWarning: numpy.arange\n",
      "  \"\"\"\n"
     ]
    },
    {
     "name": "stdout",
     "output_type": "stream",
     "text": [
      "График для модели с регуляризацией более стабилен. Это что-то вроде баланса между обучающими данными и тестовыми.\n",
      "Обобщающая модель без регуляризации оказалась более скверной.\n"
     ]
    },
    {
     "data": {
      "image/png": "[encoded data removed]",
      "text/plain": [
       "<Figure size 648x648 with 1 Axes>"
      ]
     },
     "metadata": {
      "needs_background": "light"
     },
     "output_type": "display_data"
    }
   ],
   "source": [
    "plt.figure(figsize=(9, 9))\n",
    "xmin = -0.21\n",
    "xmax = 1.05\n",
    "dx = 0.001\n",
    "xlist = mlab.frange(xmin, xmax, dx)\n",
    "ylist = []\n",
    "for x in xlist:\n",
    "    f = 0\n",
    "    for j in range(7):\n",
    "        f += (a[j]*(x**(6 - j)))\n",
    "    ylist.append(f)\n",
    "plt.scatter(xlist, ylist, label=\"Без регуляризации\")\n",
    "ylist = []\n",
    "for x in xlist:\n",
    "    f = 0\n",
    "    for j in range(7):\n",
    "        f += (a_L2[j]*(x**(6 - j)))\n",
    "    ylist.append(f)\n",
    "plt.scatter(xlist, ylist, label=\"С регуляризацией\")\n",
    "plt.scatter(x_train, y_train, s=80, color='black', label=\"Train\")\n",
    "plt.scatter(x_test, y_test, s=80, color='gold', label=\"Test\")\n",
    "plt.legend()\n",
    "\n",
    "print(\"График для модели с регуляризацией более стабилен. Это что-то вроде баланса между обучающими данными и тестовыми.\")\n",
    "print(\"Обобщающая модель без регуляризации оказалась более скверной.\")"
   ]
  },
  {
   "cell_type": "markdown",
   "metadata": {},
   "source": [
    "Попробуйте доказать, что вектор $a = (X^TX + \\lambda E)^{-1}X^Ty$ является решением задачи\n",
    "\n",
    "$$|Xa - y|^2 + \\lambda|a|^2\\rightarrow\\min$$\n",
    "\n",
    "Интуитивно это можно понимать так: мы ищем компромисс между минимизацией длины разности $|Xa - y|$ (то есть точностью решения задачи регрессии) и тем, чтобы компоненты вектора $a$ не становились слишком большими по модулю.\n",
    "\n",
    "---\n",
    "\n",
    "**В формуле вектора a:   X^T * y - константа, так же и X^T * X - константа.\n",
    "Тогда длина вектора a зависит от lambda * E. При этом чем меньше значение (X^T*X + lambda * E)^(-1), тем меньше длина вектора a. Тогда значение (X^T * X + lambda*E)^(-1) будет наименьшим при наибольшем lambda (так как A * A^(-1)=E). Но с ростом labmda растёт и среднеквадратичная ошибка. А значит чтобы найти компромисс между минимизацией длины разности и тем, чтобы компоненты вектора a не становились слишком большими по модулю, нужно найти оптимальное lambda, которое позволит при небольшом увеличении среднеквадратичной ошибки уменьшить компоненты вектора a.**"
   ]
  },
  {
   "cell_type": "markdown",
   "metadata": {},
   "source": [
    "### Задание 4. Онлайн-обучение линейной регрессии (3 балла)"
   ]
  },
  {
   "cell_type": "markdown",
   "metadata": {},
   "source": [
    "Раньше мы работали в ситуации, когда объекты $x_i$ и значения $y_i$ даны с самого начала и всегда доступны. Допустим теперь, что пары $(x_i, y_i)$ поступают к нам по одной, и мы не можем себе позволить хранить их все в памяти (это может быть актуально, например, если вы пытаетесь обучить модель на устройстве со сравнительно небольшим количеством оперативной памяти: скажем, на мобильном телефоне или на бортовом компьютере спутника связи). В этом случае нам нужно уметь решать следующую задачу:\n",
    "\n",
    "**Известно:** решение задачи регрессии для датасета $(x_1, y_1),\\ldots,(x_t,y_t)$;\n",
    "\n",
    "**На вход поступает:** новая пара $(x_{t+1}, y_{t+1})$;\n",
    "\n",
    "**Требуется:** быстро (за время, не зависящее от $t$) отыскать решение задачи регрессии для расширенного датасета $(x_1, y_1),\\ldots,(x_t,y_t),(x_{t+1}, y_{t+1})$."
   ]
  },
  {
   "cell_type": "markdown",
   "metadata": {},
   "source": [
    "Эту задачу мы будем решать в два этапа.\n",
    "\n",
    "**Этап 1.** Обозначим $X_{(t)} = (x_1\\ldots x_t)$ и $y_{(t)} = (y_1,\\ldots,y_t)^T$. Тогда, как мы хорошо помним, решение задачи регрессии для датасета $(x_1, y_1),\\ldots,(x_t,y_t)$ имеет вид $\\hat{a}_{(t)} = \\left(X^T_{(t)}X_{(t)}\\right)^{-1}X^T_{(t)}y_{(t)}$. Размеры матриц $X^T_{(t)}X_{(t)}$ и $X^T_{(t)}y_{(t)}$ не зависят от $t$, поэтому их мы, пожалуй, можем себе позволить хранить в памяти.\n",
    "\n",
    "И вот ваше первое задание в этом разделе: придумайте алгоритм, принимающий на вход матрицы $X^T_{(t)}X_{(t)}$ и $X^T_{(t)}y_{(t)}$, а также пару $(x_{t+1}, y_{t+1})$ и вычисляющий матрицы $X^T_{(t+1)}X_{(t+1)}$ и $X^T_{(t+1)}y_{(t+1)}$. Сложность вашего алгоритма не должна зависеть от $t$!\n",
    "\n",
    "--\n",
    "\n",
    "**Допустим матрица X^T * X имеет размер nxn, где n - количество элементов каждого Xi (икс i-того). Тогда на i,j - ом месте матрица X^T * X будет стоять сумма произведений i-ой строки матрицы X^T и j-ого столбца матрицы X. Тогда при добавлении в датасет очередных Xt+1 и Yt+1 мы должны к каждому i,j-ому элементу матрицы X^T * X добавить произведение i-ого элемента вектора Xt+1 на j-ый элемент вектора Xt+1. Аналогично с произведением X^T * y: только при добавлении очередных Xt+1 и Yt+1 мы должны к каждому (i, 1)-ому элементу (так как матрица будет размера nx1) добавить произведение i-ого элемента вектора Xt+1 и элемента Yt+1. Таким образом, за время, не зависящее от t, мы находим матрицы X^T * X и X^T * y для нахождения вектора a (а то есть решения задачи регрессии) для расширенного датасета**"
   ]
  },
  {
   "cell_type": "markdown",
   "metadata": {},
   "source": [
    "**Этап 2.** Теперь настало время написать немного кода и порисовать красивые картинки. Вам нужно будет реализовать симуляцию онлайн-обучения регрессии для задачи приближения функции (в данном случае $f_{true}(x) = 2x\\sin(x) + x^2 - 1$; все значения искажены небольшим нормальным шумом) многочленом степени не выше 5."
   ]
  },
  {
   "cell_type": "code",
   "execution_count": 85,
   "metadata": {},
   "outputs": [
    {
     "ename": "SyntaxError",
     "evalue": "invalid syntax (<ipython-input-85-5da8dba117bd>, line 25)",
     "output_type": "error",
     "traceback": [
      "\u001b[1;36m  File \u001b[1;32m\"<ipython-input-85-5da8dba117bd>\"\u001b[1;36m, line \u001b[1;32m25\u001b[0m\n\u001b[1;33m    y_pred = #...\u001b[0m\n\u001b[1;37m                 ^\u001b[0m\n\u001b[1;31mSyntaxError\u001b[0m\u001b[1;31m:\u001b[0m invalid syntax\n"
     ]
    }
   ],
   "source": [
    "from IPython.display import clear_output\n",
    "\n",
    "f_true = lambda x: 2*x*np.sin(5*x) + x**2 - 1 # this is the true function\n",
    "\n",
    "# We need this to make the plot of f_true:\n",
    "x_grid = np.linspace(-2,5,100) # 100 linearly spaced numbers\n",
    "x_grid_enl = np.hstack((x_grid.reshape((100,1))**j for j in range(6)))\n",
    "y_grid = f_true(x_grid)\n",
    "\n",
    "\n",
    "for i in range(200):\n",
    "\n",
    "    x_new = np.random.uniform(-2, 5)\n",
    "    y_new = f_true(x_new) + 2*np.random.randn()\n",
    "    \n",
    "    # your code goes here\n",
    "    \n",
    "    # the rest of code is just bells and whistles\n",
    "    if (i+1)%5==0:\n",
    "        clear_output(True)\n",
    "        plt.plot(x_grid,y_grid, color='blue', label='true f')\n",
    "        plt.scatter(x_new, y_new, color='red')\n",
    "        \n",
    "        # your code goes here\n",
    "        y_pred = #...\n",
    "        \n",
    "        plt.scatter(x_grid, y_pred, color='orange', linewidth=5, label='predicted f')\n",
    "        \n",
    "        plt.legend(loc='upper left')\n",
    "        plt.show()"
   ]
  },
  {
   "cell_type": "markdown",
   "metadata": {},
   "source": [
    "### Добавление. QR-разложение"
   ]
  },
  {
   "cell_type": "markdown",
   "metadata": {},
   "source": [
    "**QR-разложением** матрицы $A$ (не обязательно квадратной) мы будем называть её представление в виде $A = QR$, где $Q$ - матрица с ортонормированными столбцами, а $R$ - верхнетреугольная матрица.\n",
    "\n",
    "Смысл QR-разложения следующий. Пусть $a_1,\\ldots,a_m$ - столбцы матрицы $A$, $q_1,\\ldots,q_t$ - столбцы матрицы $Q$. Тогда $q_1,\\ldots,q_t$ - это ортонормированный базис в подпространстве, являющемся линейной оболочкой векторов $a_1,\\ldots,a_m$, а в матрице $R$ записаны коэффициенты, с помощью которых $a_i$ выражаются через $q_1,\\ldots,q_t$.\n",
    "\n",
    "Находить QR-разложение заданной матрицы можно разными способами. Мы познакомим вас не с самым лучшим из них, но по крайней мере с наиболее простым концептуально. Заметим, что ортогональный базис линейной оболочки можно найти с помощью ортогонализации Грама-Шмидта. При этом коэффициенты из матрицы $R$ получаются в качестве побочного продукта этого процесса:\n",
    "\n",
    "```python\n",
    "for j = 1...n:\n",
    "    q_j = a_j\n",
    "    for i = 1,...,j-1:\n",
    "        r_ij = (q_i, a_j)\n",
    "        q_j = q_j - r_ij * q_i\n",
    "    r_jj = |q_j|\n",
    "    if r_jj == 0: # a_j in <a_1,...,a_j-1>\n",
    "        # What would you do in this case?..\n",
    "    q_j = q_j / r_jj\n",
    "```\n",
    "\n",
    "Для нахождения QR-разложения вы можете использовать библиотечную функцию `scipy.linalg.qr`."
   ]
  },
  {
   "cell_type": "markdown",
   "metadata": {},
   "source": [
    "Поскольку лабораторная про линейную регрессию, не так-то просто замять вопрос о том, какое же отношение QR-разложение имеет к задаче регрессии. Упомянем одно из возможных применений.\n",
    "\n",
    "Допустим, мы нашли QR-разложение матрицы $X$, а именно: $X = QR$. Тогда\n",
    "$$X^TX = (QR)^T(QR) = R^TQ^TQR = R^TR$$"
   ]
  },
  {
   "cell_type": "markdown",
   "metadata": {},
   "source": [
    "Поскольку в задаче регрессии матрица $X$ обычного полного ранга (то есть её столбцы линейно независимы), матрица $R$ будет квадратной. Благодаря этому нашу обычную формулу для набора регрессионных коэффициентов $\\hat{a}$ можно переписать в следующем виде:\n",
    "\n",
    "$$\\hat{a} = (X^TX)^{-1}X^Ty = (R^TR)^{-1}(QR)^Ty = R^{-1}(R^T)^{-1}R^TQ^Ty = R^{-1}Q^Ty$$\n",
    "\n",
    "Как видите, формула стала проще. Более того, зачастую обращение матрицы $R$ может быть численно более устойчиво, чем обращение матрицы $X^TX$."
   ]
  },
  {
   "cell_type": "code",
   "execution_count": null,
   "metadata": {},
   "outputs": [],
   "source": []
  },
  {
   "cell_type": "code",
   "execution_count": null,
   "metadata": {},
   "outputs": [],
   "source": []
  },
  {
   "cell_type": "code",
   "execution_count": null,
   "metadata": {},
   "outputs": [],
   "source": []
  },
  {
   "cell_type": "code",
   "execution_count": null,
   "metadata": {},
   "outputs": [],
   "source": []
  }
 ],
 "metadata": {
  "kernelspec": {
   "display_name": "Python 3",
   "language": "python",
   "name": "python3"
  },
  "language_info": {
   "codemirror_mode": {
    "name": "ipython",
    "version": 3
   },
   "file_extension": ".py",
   "mimetype": "text/x-python",
   "name": "python",
   "nbconvert_exporter": "python",
   "pygments_lexer": "ipython3",
   "version": "3.7.1"
  }
 },
 "nbformat": 4,
 "nbformat_minor": 2
}
